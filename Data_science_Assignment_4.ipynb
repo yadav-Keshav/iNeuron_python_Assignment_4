{
 "cells": [
  {
   "cell_type": "markdown",
   "metadata": {},
   "source": [
    "#### 1.1 Write a Python Program(with class concepts) to find the area of the triangle using the below formula. area = (s*(s-a)*(s-b)*(s-c)) ** 0.5 Function to take the length of the sides of triangle from user should be defined in the parent class and function to calculate the area should be defined in subclass."
   ]
  },
  {
   "cell_type": "code",
   "execution_count": 1,
   "metadata": {},
   "outputs": [
    {
     "name": "stdout",
     "output_type": "stream",
     "text": [
      "Enter dimension of triangle\n",
      "12\n",
      "5\n",
      "13\n",
      "Area of ṭriangle = 30.0 \n"
     ]
    }
   ],
   "source": [
    "from math import sqrt\n",
    "class triangle:\n",
    "    def __init__(self):\n",
    "        print(\"Enter dimension of triangle\")\n",
    "        self.a=int(input())\n",
    "        self.b=int(input())\n",
    "        self.c=int(input())\n",
    "class area(triangle):\n",
    "    def get_area(self):\n",
    "        s=(self.a+self.b+self.c)/2\n",
    "        result=sqrt(s*(s-self.a)*(s-self.b)*(s-self.c))\n",
    "        return result\n",
    "\n",
    "ob=area()\n",
    "arr=ob.get_area()\n",
    "print(\"Area of ṭriangle = {} \".format(arr))"
   ]
  },
  {
   "cell_type": "markdown",
   "metadata": {},
   "source": [
    "#### 1.2 Write a function filter_long_words() that takes a list of words and an integer n and returns the list of words that are longer than n."
   ]
  },
  {
   "cell_type": "code",
   "execution_count": 2,
   "metadata": {},
   "outputs": [
    {
     "name": "stdout",
     "output_type": "stream",
     "text": [
      "['ghhvvvbbj']\n",
      "['vcgvvgh', 'ghhvvvbbj', 'ccvbcgv']\n",
      "['vcgvvgh', 'ghhvvvbbj', 'ccvbcgv', 'cccgf']\n"
     ]
    }
   ],
   "source": [
    "def filter_long_words(lt,n):\n",
    "    result=[]\n",
    "    for x in lt:\n",
    "        if len(x)>n:\n",
    "           result.append(x)\n",
    "    return result\n",
    "lt=['vcgvvgh','ghhvvvbbj','ccvbcgv','cccgf']\n",
    "res=filter_long_words(lt,7)\n",
    "print(res)\n",
    "res=filter_long_words(lt,6)\n",
    "print(res)\n",
    "res=filter_long_words(lt,4)\n",
    "print(res)"
   ]
  },
  {
   "cell_type": "markdown",
   "metadata": {},
   "source": [
    "#### 2.1 Write a Python program using function concept that maps list of words into a list of integers representing the lengths of the corresponding words."
   ]
  },
  {
   "cell_type": "code",
   "execution_count": 3,
   "metadata": {},
   "outputs": [
    {
     "name": "stdout",
     "output_type": "stream",
     "text": [
      "[8, 7, 6, 6]\n"
     ]
    }
   ],
   "source": [
    "def map_length(lt):\n",
    "    result=[len(x) for x in lt]\n",
    "    return result\n",
    "lt=['bfbvfbvj','bdjbvbf','fbfrbf','fbhrvv']\n",
    "result=map_length(lt)\n",
    "print(result)"
   ]
  },
  {
   "cell_type": "markdown",
   "metadata": {},
   "source": [
    "#### 2.2 Write a Python function which takes a character (i.e. a string of length 1) and returns True if it is a vowel, False otherwise."
   ]
  },
  {
   "cell_type": "code",
   "execution_count": 4,
   "metadata": {},
   "outputs": [
    {
     "name": "stdout",
     "output_type": "stream",
     "text": [
      "True\n",
      "False\n",
      "False\n"
     ]
    }
   ],
   "source": [
    "def is_vowel(x):\n",
    "    lt=['a','e','i','o','u']\n",
    "    if x in lt:\n",
    "        return True\n",
    "    else:\n",
    "        return False\n",
    "print(is_vowel('a'))\n",
    "print(is_vowel('b'))\n",
    "print(is_vowel('c'))"
   ]
  },
  {
   "cell_type": "code",
   "execution_count": null,
   "metadata": {},
   "outputs": [],
   "source": []
  }
 ],
 "metadata": {
  "kernelspec": {
   "display_name": "Python 3",
   "language": "python",
   "name": "python3"
  },
  "language_info": {
   "codemirror_mode": {
    "name": "ipython",
    "version": 3
   },
   "file_extension": ".py",
   "mimetype": "text/x-python",
   "name": "python",
   "nbconvert_exporter": "python",
   "pygments_lexer": "ipython3",
   "version": "3.8.3"
  }
 },
 "nbformat": 4,
 "nbformat_minor": 4
}
